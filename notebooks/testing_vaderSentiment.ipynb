{
 "metadata": {
  "language_info": {
   "codemirror_mode": {
    "name": "ipython",
    "version": 3
   },
   "file_extension": ".py",
   "mimetype": "text/x-python",
   "name": "python",
   "nbconvert_exporter": "python",
   "pygments_lexer": "ipython3",
   "version": "3.9.2"
  },
  "orig_nbformat": 2,
  "kernelspec": {
   "name": "python392jvsc74a57bd0e5780ede732b603b662abb1b08ac12983f194a7bdf54e8dd375a96304557c127",
   "display_name": "Python 3.9.2 64-bit ('twitter': conda)"
  }
 },
 "nbformat": 4,
 "nbformat_minor": 2,
 "cells": [
  {
   "source": [
    "References: https://towardsdatascience.com/sentiment-analysis-of-tweets-167d040f0583"
   ],
   "cell_type": "markdown",
   "metadata": {}
  },
  {
   "cell_type": "code",
   "execution_count": 3,
   "metadata": {},
   "outputs": [
    {
     "output_type": "stream",
     "name": "stdout",
     "text": [
      "/usr/local/Caskroom/miniconda/base/envs/twitter/bin/python\n",
      "Collecting vaderSentiment\n",
      "  Using cached vaderSentiment-3.3.2-py2.py3-none-any.whl (125 kB)\n",
      "Requirement already satisfied: requests in /usr/local/Caskroom/miniconda/base/envs/twitter/lib/python3.9/site-packages (from vaderSentiment) (2.25.1)\n",
      "Requirement already satisfied: chardet<5,>=3.0.2 in /usr/local/Caskroom/miniconda/base/envs/twitter/lib/python3.9/site-packages (from requests->vaderSentiment) (4.0.0)\n",
      "Requirement already satisfied: certifi>=2017.4.17 in /usr/local/Caskroom/miniconda/base/envs/twitter/lib/python3.9/site-packages (from requests->vaderSentiment) (2020.12.5)\n",
      "Requirement already satisfied: urllib3<1.27,>=1.21.1 in /usr/local/Caskroom/miniconda/base/envs/twitter/lib/python3.9/site-packages (from requests->vaderSentiment) (1.26.4)\n",
      "Requirement already satisfied: idna<3,>=2.5 in /usr/local/Caskroom/miniconda/base/envs/twitter/lib/python3.9/site-packages (from requests->vaderSentiment) (2.10)\n",
      "Installing collected packages: vaderSentiment\n",
      "Successfully installed vaderSentiment-3.3.2\n"
     ]
    }
   ],
   "source": [
    "!which python\n",
    "!pip install vaderSentiment"
   ]
  },
  {
   "cell_type": "code",
   "execution_count": 9,
   "metadata": {},
   "outputs": [],
   "source": [
    "# import vaderSentiment\n",
    "from vaderSentiment.vaderSentiment import SentimentIntensityAnalyzer\n",
    "import pandas as pd"
   ]
  },
  {
   "cell_type": "code",
   "execution_count": 5,
   "metadata": {},
   "outputs": [],
   "source": [
    "# analyzer = SentimentIntensityAnalyzer()"
   ]
  },
  {
   "cell_type": "code",
   "execution_count": 6,
   "metadata": {},
   "outputs": [
    {
     "output_type": "stream",
     "name": "stdout",
     "text": [
      "VADER is smart, handsome, and funny.----------------------------- {'neg': 0.0, 'neu': 0.254, 'pos': 0.746, 'compound': 0.8316}\nVADER is smart, handsome, and funny!----------------------------- {'neg': 0.0, 'neu': 0.248, 'pos': 0.752, 'compound': 0.8439}\nVADER is very smart, handsome, and funny.------------------------ {'neg': 0.0, 'neu': 0.299, 'pos': 0.701, 'compound': 0.8545}\nVADER is VERY SMART, handsome, and FUNNY.------------------------ {'neg': 0.0, 'neu': 0.246, 'pos': 0.754, 'compound': 0.9227}\nVADER is VERY SMART, handsome, and FUNNY!!!---------------------- {'neg': 0.0, 'neu': 0.233, 'pos': 0.767, 'compound': 0.9342}\nVADER is VERY SMART, uber handsome, and FRIGGIN FUNNY!!!--------- {'neg': 0.0, 'neu': 0.294, 'pos': 0.706, 'compound': 0.9469}\nVADER is not smart, handsome, nor funny.------------------------- {'neg': 0.646, 'neu': 0.354, 'pos': 0.0, 'compound': -0.7424}\nThe book was good.----------------------------------------------- {'neg': 0.0, 'neu': 0.508, 'pos': 0.492, 'compound': 0.4404}\nAt least it isn't a horrible book.------------------------------- {'neg': 0.0, 'neu': 0.678, 'pos': 0.322, 'compound': 0.431}\nThe book was only kind of good.---------------------------------- {'neg': 0.0, 'neu': 0.697, 'pos': 0.303, 'compound': 0.3832}\nThe plot was good, but the characters are uncompelling and the dialog is not great. {'neg': 0.327, 'neu': 0.579, 'pos': 0.094, 'compound': -0.7042}\nToday SUX!------------------------------------------------------- {'neg': 0.779, 'neu': 0.221, 'pos': 0.0, 'compound': -0.5461}\nToday only kinda sux! But I'll get by, lol----------------------- {'neg': 0.127, 'neu': 0.556, 'pos': 0.317, 'compound': 0.5249}\nMake sure you :) or :D today!------------------------------------ {'neg': 0.0, 'neu': 0.294, 'pos': 0.706, 'compound': 0.8633}\nCatch utf-8 emoji such as such as 💘 and 💋 and 😁------------------ {'neg': 0.0, 'neu': 0.615, 'pos': 0.385, 'compound': 0.875}\nNot bad at all--------------------------------------------------- {'neg': 0.0, 'neu': 0.513, 'pos': 0.487, 'compound': 0.431}\n"
     ]
    }
   ],
   "source": [
    "# --- examples -------\n",
    "sentences = [\"VADER is smart, handsome, and funny.\",  # positive sentence example\n",
    "             \"VADER is smart, handsome, and funny!\",  # punctuation emphasis handled correctly (sentiment intensity adjusted)\n",
    "             \"VADER is very smart, handsome, and funny.\", # booster words handled correctly (sentiment intensity adjusted)\n",
    "             \"VADER is VERY SMART, handsome, and FUNNY.\",  # emphasis for ALLCAPS handled\n",
    "             \"VADER is VERY SMART, handsome, and FUNNY!!!\", # combination of signals - VADER appropriately adjusts intensity\n",
    "             \"VADER is VERY SMART, uber handsome, and FRIGGIN FUNNY!!!\", # booster words & punctuation make this close to ceiling for score\n",
    "             \"VADER is not smart, handsome, nor funny.\",  # negation sentence example\n",
    "             \"The book was good.\",  # positive sentence\n",
    "             \"At least it isn't a horrible book.\",  # negated negative sentence with contraction\n",
    "             \"The book was only kind of good.\", # qualified positive sentence is handled correctly (intensity adjusted)\n",
    "             \"The plot was good, but the characters are uncompelling and the dialog is not great.\", # mixed negation sentence\n",
    "             \"Today SUX!\",  # negative slang with capitalization emphasis\n",
    "             \"Today only kinda sux! But I'll get by, lol\", # mixed sentiment example with slang and constrastive conjunction \"but\"\n",
    "             \"Make sure you :) or :D today!\",  # emoticons handled\n",
    "             \"Catch utf-8 emoji such as such as 💘 and 💋 and 😁\",  # emojis handled\n",
    "             \"Not bad at all\"  # Capitalized negation\n",
    "             ]\n",
    "\n",
    "analyzer = SentimentIntensityAnalyzer()\n",
    "for sentence in sentences:\n",
    "    vs = analyzer.polarity_scores(sentence)\n",
    "    print(\"{:-<65} {}\".format(sentence, str(vs)))"
   ]
  },
  {
   "cell_type": "code",
   "execution_count": 11,
   "metadata": {},
   "outputs": [
    {
     "output_type": "stream",
     "name": "stdout",
     "text": [
      "/Users/g/Dropbox/Code/Python/twitter_sentiment/notebooks\n"
     ]
    }
   ],
   "source": [
    "!pwd"
   ]
  },
  {
   "cell_type": "code",
   "execution_count": 13,
   "metadata": {},
   "outputs": [
    {
     "output_type": "stream",
     "name": "stdout",
     "text": [
      "<class 'pandas.core.frame.DataFrame'>\nRangeIndex: 20 entries, 0 to 19\nData columns (total 3 columns):\n #   Column      Non-Null Count  Dtype \n---  ------      --------------  ----- \n 0   id          20 non-null     int64 \n 1   created_at  20 non-null     object\n 2   text        20 non-null     object\ndtypes: int64(1), object(2)\nmemory usage: 608.0+ bytes\n"
     ]
    }
   ],
   "source": [
    "df_tweets = pd.read_csv(\"../data/csv/test_user_obama.csv\")\n",
    "df_tweets.info()"
   ]
  },
  {
   "cell_type": "code",
   "execution_count": 20,
   "metadata": {},
   "outputs": [
    {
     "output_type": "execute_result",
     "data": {
      "text/plain": [
       "[\"b'The other day I had a chance to visit a COVID-19 vaccination site in Greenbelt, MD. It was great to see so many fol\\\\xe2\\\\x80\\\\xa6 https://t.co/aFwAteHpuu'\",\n",
       " \"b'On International Nurses Day, let\\\\xe2\\\\x80\\\\x99s celebrate the nurses and medical professionals around the world who do so much f\\\\xe2\\\\x80\\\\xa6 https://t.co/iBRxtxlbuB'\",\n",
       " \"b'When @POTUS signed the American Rescue Plan, it led to the largest expansion of health care since the Affordable Ca\\\\xe2\\\\x80\\\\xa6 https://t.co/l0PU9shkxh'\",\n",
       " \"b'Happy Mother\\\\xe2\\\\x80\\\\x99s Day to @MichelleObama and all the moms celebrating today. I hope you take a moment to thank the wome\\\\xe2\\\\x80\\\\xa6 https://t.co/t9dQU3mlAf'\",\n",
       " \"b'He was exactly what we needed and more than we ever expected. We will miss him dearly. https://t.co/CHweCxwJ7a'\"]"
      ]
     },
     "metadata": {},
     "execution_count": 20
    }
   ],
   "source": [
    "list((df_tweets['text']).head())"
   ]
  },
  {
   "cell_type": "code",
   "execution_count": 21,
   "metadata": {},
   "outputs": [
    {
     "output_type": "stream",
     "name": "stdout",
     "text": [
      "b'The other day I had a chance to visit a COVID-19 vaccination site in Greenbelt, MD. It was great to see so many fol\\xe2\\x80\\xa6 https://t.co/aFwAteHpuu' {'neg': 0.0, 'neu': 0.79, 'pos': 0.21, 'compound': 0.7269}\nb'On International Nurses Day, let\\xe2\\x80\\x99s celebrate the nurses and medical professionals around the world who do so much f\\xe2\\x80\\xa6 https://t.co/iBRxtxlbuB' {'neg': 0.0, 'neu': 0.837, 'pos': 0.163, 'compound': 0.5719}\nb'When @POTUS signed the American Rescue Plan, it led to the largest expansion of health care since the Affordable Ca\\xe2\\x80\\xa6 https://t.co/l0PU9shkxh' {'neg': 0.0, 'neu': 0.745, 'pos': 0.255, 'compound': 0.7579}\nb'Happy Mother\\xe2\\x80\\x99s Day to @MichelleObama and all the moms celebrating today. I hope you take a moment to thank the wome\\xe2\\x80\\xa6 https://t.co/t9dQU3mlAf' {'neg': 0.0, 'neu': 0.676, 'pos': 0.324, 'compound': 0.8442}\nb'He was exactly what we needed and more than we ever expected. We will miss him dearly. https://t.co/CHweCxwJ7a' {'neg': 0.078, 'neu': 0.784, 'pos': 0.137, 'compound': 0.296}\nb'He tolerated all the fuss that came with being in the White House, had a big bark but no bite, loved to jump in the\\xe2\\x80\\xa6 https://t.co/55cpPeF6yN' {'neg': 0.226, 'neu': 0.774, 'pos': 0.0, 'compound': -0.7917}\nb'Today our family lost a true friend and loyal companion. For more than a decade, Bo was a constant, gentle presence\\xe2\\x80\\xa6 https://t.co/hJS8TzqBNW' {'neg': 0.073, 'neu': 0.543, 'pos': 0.383, 'compound': 0.8658}\nb'Zahrah\\xe2\\x80\\x99s story is a reminder that the Obama Presidential Center isn\\xe2\\x80\\x99t just about creating a place for people to vis\\xe2\\x80\\xa6 https://t.co/8B9AH2XAKe' {'neg': 0.0, 'neu': 0.901, 'pos': 0.099, 'compound': 0.296}\nb\"Happy 90th birthday to Willie Mays! If it wasn't for folks like Willie and Jackie Robinson, I might never have made\\xe2\\x80\\xa6 https://t.co/f6oO7W0PnH\" {'neg': 0.103, 'neu': 0.897, 'pos': 0.0, 'compound': -0.3404}\nb'It was because of them I was able to travel to New York City later that week and tell some of the people who had a\\xe2\\x80\\xa6 https://t.co/vCLIaBSoaV' {'neg': 0.0, 'neu': 1.0, 'pos': 0.0, 'compound': 0.0}\nb'This week, Admiral Bill McRaven joined me to reflect on the operation against Osama bin Laden ten years ago. \\n\\nLook\\xe2\\x80\\xa6 https://t.co/ENCMiufxAy' {'neg': 0.0, 'neu': 0.897, 'pos': 0.103, 'compound': 0.3182}\nb'Bernie Wong was a trailblazer who spent her life advocating for Asian Americans and immigrant communities in Chicag\\xe2\\x80\\xa6 https://t.co/8N6w6NJ5Wk' {'neg': 0.0, 'neu': 1.0, 'pos': 0.0, 'compound': 0.0}\nb'During President @JoeBiden\\xe2\\x80\\x99s first 100 days, the economy has created more than 1 million jobs, more than 200 millio\\xe2\\x80\\xa6 https://t.co/ADNOZfI5VO' {'neg': 0.0, 'neu': 0.905, 'pos': 0.095, 'compound': 0.25}\nb'States have just learned how many seats they have in Congress for the next decade. This process is an important ste\\xe2\\x80\\xa6 https://t.co/xbHn9wrZOu' {'neg': 0.0, 'neu': 0.921, 'pos': 0.079, 'compound': 0.2023}\nb'The world\\xe2\\x80\\x99s attention must remain on Myanmar, where I\\xe2\\x80\\x99ve been appalled by heartbreaking violence against civilians\\xe2\\x80\\xa6 https://t.co/h4XKRoY7li' {'neg': 0.419, 'neu': 0.581, 'pos': 0.0, 'compound': -0.8779}\nb'I love wandering into independent bookstores and discovering new voices and new authors. So on Independent Bookstor\\xe2\\x80\\xa6 https://t.co/Y9qHnSrD2S' {'neg': 0.0, 'neu': 0.802, 'pos': 0.198, 'compound': 0.6369}\nb'No challenge poses a greater threat to our planet and to future generations than climate change. I\\xe2\\x80\\x99m proud that the\\xe2\\x80\\xa6 https://t.co/kDJ78ysbew' {'neg': 0.125, 'neu': 0.623, 'pos': 0.253, 'compound': 0.3612}\nb'Today, a jury did the right thing. But true justice requires much more. Michelle and I send our prayers to the Floy\\xe2\\x80\\xa6 https://t.co/5vPmKrAB5V' {'neg': 0.0, 'neu': 0.717, 'pos': 0.283, 'compound': 0.8519}\nb'With all the enormous challenges facing the world, it\\xe2\\x80\\x99s worth taking the time to appreciate extraordinary human ach\\xe2\\x80\\xa6 https://t.co/E68uQ8wk2F' {'neg': 0.0, 'neu': 0.721, 'pos': 0.279, 'compound': 0.6361}\nb'I want to share a new book, Power to the Public, that illustrates how nonprofits and governments can use technology\\xe2\\x80\\xa6 https://t.co/U6yQSgi7hM' {'neg': 0.0, 'neu': 0.844, 'pos': 0.156, 'compound': 0.3612}\n"
     ]
    }
   ],
   "source": [
    "# test out on obama tweets\n",
    "for sentence in list(df_tweets['text']):\n",
    "    vs = analyzer.polarity_scores(sentence)\n",
    "    print(\"{:-<65} {}\".format(sentence, str(vs)))\n"
   ]
  },
  {
   "cell_type": "code",
   "execution_count": 78,
   "metadata": {},
   "outputs": [
    {
     "output_type": "stream",
     "name": "stdout",
     "text": [
      "{'neg': 0.0, 'neu': 1.0, 'pos': 0.0, 'compound': 0.0}\n@annaeatcarrots us scrolling the timeline------------------------ {'neg': 0.0, 'neu': 1.0, 'pos': 0.0, 'compound': 0.0}\n{'neg': 0.0, 'neu': 1.0, 'pos': 0.0, 'compound': 0.0}\n@heybereket \"saw some drama\"------------------------------------- {'neg': 0.0, 'neu': 1.0, 'pos': 0.0, 'compound': 0.0}\n{'neg': 0.0, 'neu': 1.0, 'pos': 0.0, 'compound': 0.0}\nyour Twitter personality in one pic------------------------------ {'neg': 0.0, 'neu': 1.0, 'pos': 0.0, 'compound': 0.0}\n{'neg': 0.0, 'neu': 1.0, 'pos': 0.0, 'compound': 0.0}\n@RemarkableJamie unlike the fridge, Twitter has something new when you open it {'neg': 0.0, 'neu': 1.0, 'pos': 0.0, 'compound': 0.0}\n{'neg': 0.0, 'neu': 1.0, 'pos': 0.0, 'compound': 0.0}\n@vmiwn consider it open for business----------------------------- {'neg': 0.0, 'neu': 1.0, 'pos': 0.0, 'compound': 0.0}\n{'neg': 0.0, 'neu': 1.0, 'pos': 0.0, 'compound': 0.0}\n@TSM open Twitter  close Twitter open Twitter  close Twitter----- {'neg': 0.0, 'neu': 1.0, 'pos': 0.0, 'compound': 0.0}\n{'neg': 0.0, 'neu': 0.65, 'pos': 0.35, 'compound': 0.4003}\n@blackprints you shared your cal, remember!?--------------------- {'neg': 0.0, 'neu': 0.65, 'pos': 0.35, 'compound': 0.4003}\n{'neg': 0.0, 'neu': 1.0, 'pos': 0.0, 'compound': 0.0}\nopen Twitter  close Twitter open Twitter  close Twitter---------- {'neg': 0.0, 'neu': 1.0, 'pos': 0.0, 'compound': 0.0}\n{'neg': 0.0, 'neu': 0.685, 'pos': 0.315, 'compound': 0.3182}\n@as_a_vegetarian also water. please stay hydrated---------------- {'neg': 0.0, 'neu': 0.685, 'pos': 0.315, 'compound': 0.3182}\n{'neg': 0.0, 'neu': 0.192, 'pos': 0.808, 'compound': 0.4939}\n@vinn_ayy okay sure---------------------------------------------- {'neg': 0.0, 'neu': 0.192, 'pos': 0.808, 'compound': 0.4939}\n{'neg': 0.0, 'neu': 0.582, 'pos': 0.418, 'compound': 0.4364}\n@wordmancopy learned so much ty---------------------------------- {'neg': 0.0, 'neu': 0.582, 'pos': 0.418, 'compound': 0.4364}\n{'neg': 0.0, 'neu': 0.575, 'pos': 0.425, 'compound': 0.5719}\n@trendsjeon this Tweet makes us happy---------------------------- {'neg': 0.0, 'neu': 0.575, 'pos': 0.425, 'compound': 0.5719}\n{'neg': 0.039, 'neu': 0.822, 'pos': 0.138, 'compound': 0.6124}\nshow your love, leave a tip   now testing Tip Jar, a new way to give and receive money on Twitter 💸   more coming soon...  https://t.co/7vyCzlRIFc {'neg': 0.039, 'neu': 0.822, 'pos': 0.138, 'compound': 0.6124}\n{'neg': 0.0, 'neu': 1.0, 'pos': 0.0, 'compound': 0.0}\n@Nightbat152 it's only the long necked egret duh----------------- {'neg': 0.0, 'neu': 1.0, 'pos': 0.0, 'compound': 0.0}\n{'neg': 0.167, 'neu': 0.722, 'pos': 0.11, 'compound': -0.128}\nno bird too tall, no crop too short  introducing bigger and better images on iOS and Android, now available to everyone  https://t.co/2buHfhfRAx {'neg': 0.167, 'neu': 0.722, 'pos': 0.11, 'compound': -0.128}\n{'neg': 0.137, 'neu': 0.392, 'pos': 0.471, 'compound': 0.5267}\nwriting a good Tweet is hard okay-------------------------------- {'neg': 0.137, 'neu': 0.392, 'pos': 0.471, 'compound': 0.5267}\n{'neg': 0.0, 'neu': 1.0, 'pos': 0.0, 'compound': 0.0}\n@scenetaeryh 🤝🧈-------------------------------------------------- {'neg': 0.0, 'neu': 1.0, 'pos': 0.0, 'compound': 0.0}\n{'neg': 0.0, 'neu': 1.0, 'pos': 0.0, 'compound': 0.0}\n@scenetaeryh spread the word  https://t.co/m6lB5zinBF------------ {'neg': 0.0, 'neu': 1.0, 'pos': 0.0, 'compound': 0.0}\n{'neg': 0.0, 'neu': 1.0, 'pos': 0.0, 'compound': 0.0}\n@TiwariVinnie and we Tweeted it---------------------------------- {'neg': 0.0, 'neu': 1.0, 'pos': 0.0, 'compound': 0.0}\n{'neg': 0.0, 'neu': 0.633, 'pos': 0.367, 'compound': 0.4404}\n@cahcd1 thanks for the heads up---------------------------------- {'neg': 0.0, 'neu': 0.633, 'pos': 0.367, 'compound': 0.4404}\n{'neg': 0.0, 'neu': 1.0, 'pos': 0.0, 'compound': 0.0}\n@folkIivia when is she not--------------------------------------- {'neg': 0.0, 'neu': 1.0, 'pos': 0.0, 'compound': 0.0}\n{'neg': 0.311, 'neu': 0.328, 'pos': 0.361, 'compound': 0.0772}\n@Zahra_Hasan exasperated but urgent------------------------------ {'neg': 0.311, 'neu': 0.328, 'pos': 0.361, 'compound': 0.0772}\n{'neg': 0.102, 'neu': 0.898, 'pos': 0.0, 'compound': -0.1232}\n@tjoonies not sure if you've heard of this place called Twitter but that's us {'neg': 0.102, 'neu': 0.898, 'pos': 0.0, 'compound': -0.1232}\n{'neg': 0.0, 'neu': 1.0, 'pos': 0.0, 'compound': 0.0}\n@vmiwn  https://t.co/NONWYkc5AM---------------------------------- {'neg': 0.0, 'neu': 1.0, 'pos': 0.0, 'compound': 0.0}\n{'neg': 0.0, 'neu': 1.0, 'pos': 0.0, 'compound': 0.0}\n@DeePee30 how'd you find our office------------------------------ {'neg': 0.0, 'neu': 1.0, 'pos': 0.0, 'compound': 0.0}\n{'neg': 0.0, 'neu': 1.0, 'pos': 0.0, 'compound': 0.0}\n@Vraxooo sometimes we experience everything so much-------------- {'neg': 0.0, 'neu': 1.0, 'pos': 0.0, 'compound': 0.0}\n{'neg': 0.0, 'neu': 1.0, 'pos': 0.0, 'compound': 0.0}\n@PrimoMessi so everything is happening except that--------------- {'neg': 0.0, 'neu': 1.0, 'pos': 0.0, 'compound': 0.0}\n{'neg': 0.0, 'neu': 0.635, 'pos': 0.365, 'compound': 0.3182}\n@thereeljuicyj_ need a lullaby please---------------------------- {'neg': 0.0, 'neu': 0.635, 'pos': 0.365, 'compound': 0.3182}\n{'neg': 0.0, 'neu': 0.392, 'pos': 0.608, 'compound': 0.7345}\n@lR0NDAD good luck with your finals!----------------------------- {'neg': 0.0, 'neu': 0.392, 'pos': 0.608, 'compound': 0.7345}\n{'neg': 0.423, 'neu': 0.577, 'pos': 0.0, 'compound': -0.296}\n@lovershoax make it stop----------------------------------------- {'neg': 0.423, 'neu': 0.577, 'pos': 0.0, 'compound': -0.296}\n{'neg': 0.0, 'neu': 1.0, 'pos': 0.0, 'compound': 0.0}\n@Malickvfx everything is ratio-ing so much----------------------- {'neg': 0.0, 'neu': 1.0, 'pos': 0.0, 'compound': 0.0}\n{'neg': 0.0, 'neu': 0.288, 'pos': 0.712, 'compound': 0.7125}\n@Jinn_chan LOVE YOU---------------------------------------------- {'neg': 0.0, 'neu': 0.288, 'pos': 0.712, 'compound': 0.7125}\n{'neg': 0.0, 'neu': 1.0, 'pos': 0.0, 'compound': 0.0}\n@scenetaeryh and by everything we mean that---------------------- {'neg': 0.0, 'neu': 1.0, 'pos': 0.0, 'compound': 0.0}\n{'neg': 0.0, 'neu': 0.741, 'pos': 0.259, 'compound': 0.2732}\n@newportliving well why didn't you tell us----------------------- {'neg': 0.0, 'neu': 0.741, 'pos': 0.259, 'compound': 0.2732}\n{'neg': 0.0, 'neu': 1.0, 'pos': 0.0, 'compound': 0.0}\neverything is happening so much---------------------------------- {'neg': 0.0, 'neu': 1.0, 'pos': 0.0, 'compound': 0.0}\n{'neg': 0.355, 'neu': 0.645, 'pos': 0.0, 'compound': -0.296}\n@corietjohnson speaking for everyone, no------------------------- {'neg': 0.355, 'neu': 0.645, 'pos': 0.0, 'compound': -0.296}\n{'neg': 0.0, 'neu': 1.0, 'pos': 0.0, 'compound': 0.0}\nthe work continues----------------------------------------------- {'neg': 0.0, 'neu': 1.0, 'pos': 0.0, 'compound': 0.0}\n{'neg': 0.0, 'neu': 0.706, 'pos': 0.294, 'compound': 0.3612}\n@djarinculture thank you for the research, bestie---------------- {'neg': 0.0, 'neu': 0.706, 'pos': 0.294, 'compound': 0.3612}\n{'neg': 0.0, 'neu': 0.484, 'pos': 0.516, 'compound': 0.4939}\n@Skoog pretty much correct--------------------------------------- {'neg': 0.0, 'neu': 0.484, 'pos': 0.516, 'compound': 0.4939}\n{'neg': 0.0, 'neu': 1.0, 'pos': 0.0, 'compound': 0.0}\n@MoniNextDoor \"just said I do LMAOOOO\"--------------------------- {'neg': 0.0, 'neu': 1.0, 'pos': 0.0, 'compound': 0.0}\n{'neg': 0.0, 'neu': 0.859, 'pos': 0.141, 'compound': 0.4767}\nnow you can bless the Tweets in your Fleets with pics of baby pigeons or whatever pics and vids you want really  rolling out on iOS  https://t.co/LAtuRvTTFv {'neg': 0.0, 'neu': 0.859, 'pos': 0.141, 'compound': 0.4767}\n{'neg': 0.484, 'neu': 0.318, 'pos': 0.199, 'compound': -0.5563}\nRT for tired, like for very tired-------------------------------- {'neg': 0.484, 'neu': 0.318, 'pos': 0.199, 'compound': -0.5563}\n{'neg': 0.0, 'neu': 1.0, 'pos': 0.0, 'compound': 0.0}\n@dinoman_j we're they-------------------------------------------- {'neg': 0.0, 'neu': 1.0, 'pos': 0.0, 'compound': 0.0}\n{'neg': 0.0, 'neu': 0.723, 'pos': 0.277, 'compound': 0.3182}\n@MirandaBassagi are you sure they're the one?-------------------- {'neg': 0.0, 'neu': 0.723, 'pos': 0.277, 'compound': 0.3182}\n{'neg': 0.0, 'neu': 1.0, 'pos': 0.0, 'compound': 0.0}\n@makeart it's basic math really---------------------------------- {'neg': 0.0, 'neu': 1.0, 'pos': 0.0, 'compound': 0.0}\n{'neg': 0.0, 'neu': 1.0, 'pos': 0.0, 'compound': 0.0}\n@njl_mr it was a hint-------------------------------------------- {'neg': 0.0, 'neu': 1.0, 'pos': 0.0, 'compound': 0.0}\n{'neg': 0.0, 'neu': 1.0, 'pos': 0.0, 'compound': 0.0}\n@niallsbwcolors you didn't see this then------------------------- {'neg': 0.0, 'neu': 1.0, 'pos': 0.0, 'compound': 0.0}\n{'neg': 0.0, 'neu': 1.0, 'pos': 0.0, 'compound': 0.0}\n@RealCosimino goals---------------------------------------------- {'neg': 0.0, 'neu': 1.0, 'pos': 0.0, 'compound': 0.0}\n{'neg': 0.226, 'neu': 0.484, 'pos': 0.29, 'compound': 0.1027}\n@jimin_snuck_in playing hard to get------------------------------ {'neg': 0.226, 'neu': 0.484, 'pos': 0.29, 'compound': 0.1027}\n{'neg': 0.252, 'neu': 0.537, 'pos': 0.211, 'compound': 0.0806}\n@stiinkyrue Maybe he LIKES your Tweets he just doesn't like like them {'neg': 0.252, 'neu': 0.537, 'pos': 0.211, 'compound': 0.0806}\n{'neg': 0.0, 'neu': 0.488, 'pos': 0.512, 'compound': 0.743}\n@vildanzengin_ you're welcome for the free brain workout--------- {'neg': 0.0, 'neu': 0.488, 'pos': 0.512, 'compound': 0.743}\n{'neg': 0.0, 'neu': 1.0, 'pos': 0.0, 'compound': 0.0}\n@pvrkeroos we're a mirror today---------------------------------- {'neg': 0.0, 'neu': 1.0, 'pos': 0.0, 'compound': 0.0}\n{'neg': 0.0, 'neu': 0.667, 'pos': 0.333, 'compound': 0.3612}\n@emilybernay must mean they like you----------------------------- {'neg': 0.0, 'neu': 0.667, 'pos': 0.333, 'compound': 0.3612}\n{'neg': 0.0, 'neu': 0.643, 'pos': 0.357, 'compound': 0.6124}\ndo they like you or do they just like your Tweet----------------- {'neg': 0.0, 'neu': 0.643, 'pos': 0.357, 'compound': 0.6124}\n{'neg': 0.0, 'neu': 1.0, 'pos': 0.0, 'compound': 0.0}\nend of thread---------------------------------------------------- {'neg': 0.0, 'neu': 1.0, 'pos': 0.0, 'compound': 0.0}\n{'neg': 0.264, 'neu': 0.331, 'pos': 0.405, 'compound': 0.1779}\na thread of funny april fools' jokes:---------------------------- {'neg': 0.264, 'neu': 0.331, 'pos': 0.405, 'compound': 0.1779}\n{'neg': 0.0, 'neu': 1.0, 'pos': 0.0, 'compound': 0.0}\n@annaeatcarrots @Soin1D floored---------------------------------- {'neg': 0.0, 'neu': 1.0, 'pos': 0.0, 'compound': 0.0}\n{'neg': 0.0, 'neu': 0.756, 'pos': 0.244, 'compound': 0.4404}\n@y2jbaybay it's a good time to Tweet about the boat-------------- {'neg': 0.0, 'neu': 0.756, 'pos': 0.244, 'compound': 0.4404}\n{'neg': 0.0, 'neu': 0.8, 'pos': 0.2, 'compound': 0.3612}\n@mark10stm as we like to say: we are all the boat---------------- {'neg': 0.0, 'neu': 0.8, 'pos': 0.2, 'compound': 0.3612}\n{'neg': 0.0, 'neu': 0.588, 'pos': 0.412, 'compound': 0.6369}\n@rgprab the boat was trying its best----------------------------- {'neg': 0.0, 'neu': 0.588, 'pos': 0.412, 'compound': 0.6369}\n{'neg': 0.0, 'neu': 0.776, 'pos': 0.224, 'compound': 0.1139}\n@LaserEyesFdr don't miss the boat then--------------------------- {'neg': 0.0, 'neu': 0.776, 'pos': 0.224, 'compound': 0.1139}\n{'neg': 0.0, 'neu': 1.0, 'pos': 0.0, 'compound': 0.0}\n@oyimzy we're the forklift--------------------------------------- {'neg': 0.0, 'neu': 1.0, 'pos': 0.0, 'compound': 0.0}\n{'neg': 0.0, 'neu': 1.0, 'pos': 0.0, 'compound': 0.0}\n@Vithusha_Mo30 floating by on memes------------------------------ {'neg': 0.0, 'neu': 1.0, 'pos': 0.0, 'compound': 0.0}\n{'neg': 0.0, 'neu': 1.0, 'pos': 0.0, 'compound': 0.0}\n@Selmemilove deeper than the suez-------------------------------- {'neg': 0.0, 'neu': 1.0, 'pos': 0.0, 'compound': 0.0}\n{'neg': 0.0, 'neu': 1.0, 'pos': 0.0, 'compound': 0.0}\n@djarinculture here for you bestie------------------------------- {'neg': 0.0, 'neu': 1.0, 'pos': 0.0, 'compound': 0.0}\n{'neg': 0.0, 'neu': 1.0, 'pos': 0.0, 'compound': 0.0}\n@TheRealAmosZ full sail ahead------------------------------------ {'neg': 0.0, 'neu': 1.0, 'pos': 0.0, 'compound': 0.0}\n{'neg': 0.0, 'neu': 1.0, 'pos': 0.0, 'compound': 0.0}\nthe boat made it and so can you---------------------------------- {'neg': 0.0, 'neu': 1.0, 'pos': 0.0, 'compound': 0.0}\n{'neg': 0.0, 'neu': 1.0, 'pos': 0.0, 'compound': 0.0}\nsubtweeting is an art-------------------------------------------- {'neg': 0.0, 'neu': 1.0, 'pos': 0.0, 'compound': 0.0}\n{'neg': 0.0, 'neu': 1.0, 'pos': 0.0, 'compound': 0.0}\n#StopAsianHate #StopAsianHate #StopAsianHate #StopAsianHate #StopAsianHate #StopAsianHate #StopAsianHate #StopAsianHate {'neg': 0.0, 'neu': 1.0, 'pos': 0.0, 'compound': 0.0}\n{'neg': 0.0, 'neu': 1.0, 'pos': 0.0, 'compound': 0.0}\n0 days since someone asked for an edit button-------------------- {'neg': 0.0, 'neu': 1.0, 'pos': 0.0, 'compound': 0.0}\n{'neg': 0.0, 'neu': 0.903, 'pos': 0.097, 'compound': 0.4389}\nWe’re working on something we think you’ll love — Twitter Spaces!  Still in test mode but rolling out soon. Here’s a peek at what everybody’s talking about...  https://t.co/KMXzmKzbDp {'neg': 0.0, 'neu': 0.903, 'pos': 0.097, 'compound': 0.4389}\n{'neg': 0.0, 'neu': 0.488, 'pos': 0.512, 'compound': 0.6369}\n@reddit love htat for you---------------------------------------- {'neg': 0.0, 'neu': 0.488, 'pos': 0.512, 'compound': 0.6369}\n{'neg': 0.0, 'neu': 1.0, 'pos': 0.0, 'compound': 0.0}\n@Ryuseokjin_ you're absolutely correct--------------------------- {'neg': 0.0, 'neu': 1.0, 'pos': 0.0, 'compound': 0.0}\n{'neg': 0.0, 'neu': 1.0, 'pos': 0.0, 'compound': 0.0}\n@BeLiNdAoOx  https://t.co/g2uPWckjOA----------------------------- {'neg': 0.0, 'neu': 1.0, 'pos': 0.0, 'compound': 0.0}\n{'neg': 0.0, 'neu': 1.0, 'pos': 0.0, 'compound': 0.0}\n@sarcasm_mansion uh oh------------------------------------------- {'neg': 0.0, 'neu': 1.0, 'pos': 0.0, 'compound': 0.0}\n{'neg': 0.0, 'neu': 0.492, 'pos': 0.508, 'compound': 0.4767}\n@emilybernay proud of you---------------------------------------- {'neg': 0.0, 'neu': 0.492, 'pos': 0.508, 'compound': 0.4767}\n{'neg': 0.0, 'neu': 1.0, 'pos': 0.0, 'compound': 0.0}\n@jimin_snuck_in we'll see---------------------------------------- {'neg': 0.0, 'neu': 1.0, 'pos': 0.0, 'compound': 0.0}\n{'neg': 0.412, 'neu': 0.588, 'pos': 0.0, 'compound': -0.2023}\n@brenduhalvarado changed our mind idk idk------------------------ {'neg': 0.412, 'neu': 0.588, 'pos': 0.0, 'compound': -0.2023}\n{'neg': 0.0, 'neu': 1.0, 'pos': 0.0, 'compound': 0.0}\n@bunsenbernerbmd those are the rules----------------------------- {'neg': 0.0, 'neu': 1.0, 'pos': 0.0, 'compound': 0.0}\n{'neg': 0.0, 'neu': 1.0, 'pos': 0.0, 'compound': 0.0}\n@bluemeth123 different month, different mood--------------------- {'neg': 0.0, 'neu': 1.0, 'pos': 0.0, 'compound': 0.0}\n{'neg': 0.0, 'neu': 0.408, 'pos': 0.592, 'compound': 0.4404}\n@Lexiedanversss thanks bestie------------------------------------ {'neg': 0.0, 'neu': 0.408, 'pos': 0.592, 'compound': 0.4404}\n{'neg': 0.0, 'neu': 1.0, 'pos': 0.0, 'compound': 0.0}\nsome Tweets belong in the drafts--------------------------------- {'neg': 0.0, 'neu': 1.0, 'pos': 0.0, 'compound': 0.0}\n{'neg': 0.0, 'neu': 1.0, 'pos': 0.0, 'compound': 0.0}\n@uhmaayyze \"the official hype man of Twitter\"-------------------- {'neg': 0.0, 'neu': 1.0, 'pos': 0.0, 'compound': 0.0}\n{'neg': 0.0, 'neu': 1.0, 'pos': 0.0, 'compound': 0.0}\n@SpiderManMovie #SpiderManNoWayHome starring Tom Holland, Zendaya, Jacob Batalon, Tobey Maguire, and Andrew Garfield, only in movie theaters this Christmas. {'neg': 0.0, 'neu': 1.0, 'pos': 0.0, 'compound': 0.0}\n{'neg': 0.0, 'neu': 1.0, 'pos': 0.0, 'compound': 0.0}\n@EatLiquidGold \"the reason gold is at an all time high\"---------- {'neg': 0.0, 'neu': 1.0, 'pos': 0.0, 'compound': 0.0}\n{'neg': 0.0, 'neu': 1.0, 'pos': 0.0, 'compound': 0.0}\n@gunnargehl \"One Second Of One Day... but so many Tweets\"-------- {'neg': 0.0, 'neu': 1.0, 'pos': 0.0, 'compound': 0.0}\n{'neg': 0.0, 'neu': 0.778, 'pos': 0.222, 'compound': 0.25}\n@Barbie \"astronaut, scientist, doctor, vet, dream house owner\"--- {'neg': 0.0, 'neu': 0.778, 'pos': 0.222, 'compound': 0.25}\n{'neg': 0.0, 'neu': 1.0, 'pos': 0.0, 'compound': 0.0}\n@jennaezarik \"justine's sister\"---------------------------------- {'neg': 0.0, 'neu': 1.0, 'pos': 0.0, 'compound': 0.0}\n{'neg': 0.0, 'neu': 1.0, 'pos': 0.0, 'compound': 0.0}\n@ijustine \"jenna's sister\"--------------------------------------- {'neg': 0.0, 'neu': 1.0, 'pos': 0.0, 'compound': 0.0}\n{'neg': 0.19, 'neu': 0.552, 'pos': 0.258, 'compound': 0.2732}\n@MAYAMAXIMOFFS \"anya taylor-joy and everything else is wrong 💚 \"- {'neg': 0.19, 'neu': 0.552, 'pos': 0.258, 'compound': 0.2732}\n{'neg': 0.0, 'neu': 1.0, 'pos': 0.0, 'compound': 0.0}\n@realUNOgame \"Tweets about about how you can't stack a +2 on a +2\" {'neg': 0.0, 'neu': 1.0, 'pos': 0.0, 'compound': 0.0}\n{'neg': 0.0, 'neu': 0.797, 'pos': 0.203, 'compound': 0.3724}\n@71meddle \"sticking to the classics so I never go wrong. she/her\" {'neg': 0.0, 'neu': 0.797, 'pos': 0.203, 'compound': 0.3724}\n{'neg': 0.0, 'neu': 1.0, 'pos': 0.0, 'compound': 0.0}\n@colbertlateshow \"our show is on late\"--------------------------- {'neg': 0.0, 'neu': 1.0, 'pos': 0.0, 'compound': 0.0}\n{'neg': 0.0, 'neu': 1.0, 'pos': 0.0, 'compound': 0.0}\n@BagelBites \"ended the NY v. NJ bagel debate\"-------------------- {'neg': 0.0, 'neu': 1.0, 'pos': 0.0, 'compound': 0.0}\n{'neg': 0.0, 'neu': 1.0, 'pos': 0.0, 'compound': 0.0}\n@PsycheAgustD_ \"let's get this hobi bread\"----------------------- {'neg': 0.0, 'neu': 1.0, 'pos': 0.0, 'compound': 0.0}\n{'neg': 0.0, 'neu': 0.548, 'pos': 0.452, 'compound': 0.5106}\n@ppredictors \"0% fact, 100% fun\"--------------------------------- {'neg': 0.0, 'neu': 0.548, 'pos': 0.452, 'compound': 0.5106}\n{'neg': 0.0, 'neu': 1.0, 'pos': 0.0, 'compound': 0.0}\n@Ieiasolo \"AGATHA HARKNESS CAN HEX ME, she/they\"----------------- {'neg': 0.0, 'neu': 1.0, 'pos': 0.0, 'compound': 0.0}\n{'neg': 0.0, 'neu': 0.674, 'pos': 0.326, 'compound': 0.4404}\n@OliverDurham10 \"my plants are better than yours\"---------------- {'neg': 0.0, 'neu': 0.674, 'pos': 0.326, 'compound': 0.4404}\n{'neg': 0.0, 'neu': 0.625, 'pos': 0.375, 'compound': 0.6369}\n@Vraxooo \"banger bio,  💙 social media person\"-------------------- {'neg': 0.0, 'neu': 0.625, 'pos': 0.375, 'compound': 0.6369}\n{'neg': 0.0, 'neu': 1.0, 'pos': 0.0, 'compound': 0.0}\n@ImLiteralLarry1 \"my name is Larry and I take everything literally\" {'neg': 0.0, 'neu': 1.0, 'pos': 0.0, 'compound': 0.0}\n"
     ]
    }
   ],
   "source": [
    "# test out on twint extract \n",
    "df1 = pd.read_csv(\"../data/csv/twitter_tweets.csv\")\n",
    "\n",
    "\n",
    "\n",
    "\n",
    "\n",
    "for sentence in list(df1['tweet']):\n",
    "    vs = analyzer.polarity_scores(sentence)\n",
    "    print(vs)\n",
    "    # print(\"{:-<65} {}\".format(sentence, str(vs)))\n",
    "    print(f\"{sentence:-<65} {str(vs)}\")\n"
   ]
  },
  {
   "cell_type": "code",
   "execution_count": 43,
   "metadata": {},
   "outputs": [
    {
     "output_type": "stream",
     "name": "stdout",
     "text": [
      "vs={'neg': 0.0, 'neu': 1.0, 'pos': 0.0, 'compound': 0.0}\nvs.get(\"compound\")=0.0\nvs={'neg': 0.0, 'neu': 1.0, 'pos': 0.0, 'compound': 0.0, 'sentiment': 0}\n"
     ]
    }
   ],
   "source": [
    "sample_tweet = df1['tweet'][5]\n",
    "vs = analyzer.polarity_scores(sample_tweet)\n",
    "print(f'{vs=}')\n",
    "print(f'{vs.get(\"compound\")=}')\n",
    "if vs.get('compound')> 0.5:\n",
    "    vs[\"sentiment\"]=1\n",
    "else:\n",
    "    vs[\"sentiment\"]=0\n",
    "\n",
    "print(f'{vs=}')"
   ]
  },
  {
   "cell_type": "code",
   "execution_count": 56,
   "metadata": {},
   "outputs": [
    {
     "output_type": "stream",
     "name": "stdout",
     "text": [
      "all_scores=[0.0, 0.0, 0.0, 0.0, 0.0, 0.0, 0.4003, 0.0, 0.3182, 0.4939, 0.4364, 0.5719, 0.6124, 0.0, -0.128, 0.5267, 0.0, 0.0, 0.0, 0.4404, 0.0, 0.0772, -0.1232, 0.0, 0.0, 0.0, 0.0, 0.3182, 0.7345, -0.296, 0.0, 0.7125, 0.0, 0.2732, 0.0, -0.296, 0.0, 0.3612, 0.4939, 0.0, 0.4767, -0.5563, 0.0, 0.3182, 0.0, 0.0, 0.0, 0.0, 0.1027, 0.0806, 0.743, 0.0, 0.3612, 0.6124, 0.0, 0.1779, 0.0, 0.4404, 0.3612, 0.6369, 0.1139, 0.0, 0.0, 0.0, 0.0, 0.0, 0.0, 0.0, 0.0, 0.0, 0.4389, 0.6369, 0.0, 0.0, 0.0, 0.4767, 0.0, -0.2023, 0.0, 0.0, 0.4404, 0.0, 0.0, 0.0, 0.0, 0.0, 0.25, 0.0, 0.0, 0.2732, 0.0, 0.3724, 0.0, 0.0, 0.0, 0.5106, 0.0, 0.4404, 0.6369, 0.0]\n"
     ]
    }
   ],
   "source": [
    "all_scores=[]\n",
    "\n",
    "# update dataframe with sentiment score\n",
    "for sentence in list(df1['tweet']):\n",
    "    vs = analyzer.polarity_scores(sentence)\n",
    "    # print(vs)\n",
    "    if vs.get('compound')> 0.5:\n",
    "        vs[\"sentiment\"]=1\n",
    "    else:\n",
    "        vs[\"sentiment\"]=0\n",
    "    all_scores.append(vs['compound'])\n",
    "\n",
    "# print(f\"{all_scores=}\")\n",
    "# se = pd.Series(all_scores)\n",
    "# df1['compound_score'] = se.values\n"
   ]
  },
  {
   "cell_type": "code",
   "execution_count": 79,
   "metadata": {},
   "outputs": [
    {
     "output_type": "execute_result",
     "data": {
      "text/plain": [
       "                    id      conversation_id    created_at  \\\n",
       "0  1391862914525638658  1391857183801974794  1.620681e+12   \n",
       "1  1391862914479529989  1391857183801974794  1.620681e+12   \n",
       "2  1391857183801974794  1391857183801974794  1.620680e+12   \n",
       "3  1391856943657111558  1390725076996268038  1.620680e+12   \n",
       "4  1390726788049932288  1390725076996268038  1.620410e+12   \n",
       "\n",
       "                  date  timezone  place  \\\n",
       "0  2021-05-11 05:09:13       800    NaN   \n",
       "1  2021-05-11 05:09:13       800    NaN   \n",
       "2  2021-05-11 04:46:26       800    NaN   \n",
       "3  2021-05-11 04:45:29       800    NaN   \n",
       "4  2021-05-08 01:54:39       800    NaN   \n",
       "\n",
       "                                               tweet language hashtags  \\\n",
       "0          @annaeatcarrots us scrolling the timeline       en       []   \n",
       "1                       @heybereket \"saw some drama\"       en       []   \n",
       "2                your Twitter personality in one pic       en       []   \n",
       "3  @RemarkableJamie unlike the fridge, Twitter ha...       en       []   \n",
       "4               @vmiwn consider it open for business       en       []   \n",
       "\n",
       "  cashtags  ...  geo  source user_rt_id user_rt  retweet_id  \\\n",
       "0       []  ...  NaN     NaN        NaN     NaN         NaN   \n",
       "1       []  ...  NaN     NaN        NaN     NaN         NaN   \n",
       "2       []  ...  NaN     NaN        NaN     NaN         NaN   \n",
       "3       []  ...  NaN     NaN        NaN     NaN         NaN   \n",
       "4       []  ...  NaN     NaN        NaN     NaN         NaN   \n",
       "\n",
       "                                            reply_to retweet_date translate  \\\n",
       "0  [{'screen_name': 'annaeatcarrots', 'name': \"an...          NaN       NaN   \n",
       "1  [{'screen_name': 'heybereket', 'name': 'Bereke...          NaN       NaN   \n",
       "2                                                 []          NaN       NaN   \n",
       "3  [{'screen_name': 'RemarkableJamie', 'name': 'J...          NaN       NaN   \n",
       "4  [{'screen_name': 'vmiwn', 'name': 'hiro !?', '...          NaN       NaN   \n",
       "\n",
       "  trans_src  trans_dest  \n",
       "0       NaN         NaN  \n",
       "1       NaN         NaN  \n",
       "2       NaN         NaN  \n",
       "3       NaN         NaN  \n",
       "4       NaN         NaN  \n",
       "\n",
       "[5 rows x 38 columns]"
      ],
      "text/html": "<div>\n<style scoped>\n    .dataframe tbody tr th:only-of-type {\n        vertical-align: middle;\n    }\n\n    .dataframe tbody tr th {\n        vertical-align: top;\n    }\n\n    .dataframe thead th {\n        text-align: right;\n    }\n</style>\n<table border=\"1\" class=\"dataframe\">\n  <thead>\n    <tr style=\"text-align: right;\">\n      <th></th>\n      <th>id</th>\n      <th>conversation_id</th>\n      <th>created_at</th>\n      <th>date</th>\n      <th>timezone</th>\n      <th>place</th>\n      <th>tweet</th>\n      <th>language</th>\n      <th>hashtags</th>\n      <th>cashtags</th>\n      <th>...</th>\n      <th>geo</th>\n      <th>source</th>\n      <th>user_rt_id</th>\n      <th>user_rt</th>\n      <th>retweet_id</th>\n      <th>reply_to</th>\n      <th>retweet_date</th>\n      <th>translate</th>\n      <th>trans_src</th>\n      <th>trans_dest</th>\n    </tr>\n  </thead>\n  <tbody>\n    <tr>\n      <th>0</th>\n      <td>1391862914525638658</td>\n      <td>1391857183801974794</td>\n      <td>1.620681e+12</td>\n      <td>2021-05-11 05:09:13</td>\n      <td>800</td>\n      <td>NaN</td>\n      <td>@annaeatcarrots us scrolling the timeline</td>\n      <td>en</td>\n      <td>[]</td>\n      <td>[]</td>\n      <td>...</td>\n      <td>NaN</td>\n      <td>NaN</td>\n      <td>NaN</td>\n      <td>NaN</td>\n      <td>NaN</td>\n      <td>[{'screen_name': 'annaeatcarrots', 'name': \"an...</td>\n      <td>NaN</td>\n      <td>NaN</td>\n      <td>NaN</td>\n      <td>NaN</td>\n    </tr>\n    <tr>\n      <th>1</th>\n      <td>1391862914479529989</td>\n      <td>1391857183801974794</td>\n      <td>1.620681e+12</td>\n      <td>2021-05-11 05:09:13</td>\n      <td>800</td>\n      <td>NaN</td>\n      <td>@heybereket \"saw some drama\"</td>\n      <td>en</td>\n      <td>[]</td>\n      <td>[]</td>\n      <td>...</td>\n      <td>NaN</td>\n      <td>NaN</td>\n      <td>NaN</td>\n      <td>NaN</td>\n      <td>NaN</td>\n      <td>[{'screen_name': 'heybereket', 'name': 'Bereke...</td>\n      <td>NaN</td>\n      <td>NaN</td>\n      <td>NaN</td>\n      <td>NaN</td>\n    </tr>\n    <tr>\n      <th>2</th>\n      <td>1391857183801974794</td>\n      <td>1391857183801974794</td>\n      <td>1.620680e+12</td>\n      <td>2021-05-11 04:46:26</td>\n      <td>800</td>\n      <td>NaN</td>\n      <td>your Twitter personality in one pic</td>\n      <td>en</td>\n      <td>[]</td>\n      <td>[]</td>\n      <td>...</td>\n      <td>NaN</td>\n      <td>NaN</td>\n      <td>NaN</td>\n      <td>NaN</td>\n      <td>NaN</td>\n      <td>[]</td>\n      <td>NaN</td>\n      <td>NaN</td>\n      <td>NaN</td>\n      <td>NaN</td>\n    </tr>\n    <tr>\n      <th>3</th>\n      <td>1391856943657111558</td>\n      <td>1390725076996268038</td>\n      <td>1.620680e+12</td>\n      <td>2021-05-11 04:45:29</td>\n      <td>800</td>\n      <td>NaN</td>\n      <td>@RemarkableJamie unlike the fridge, Twitter ha...</td>\n      <td>en</td>\n      <td>[]</td>\n      <td>[]</td>\n      <td>...</td>\n      <td>NaN</td>\n      <td>NaN</td>\n      <td>NaN</td>\n      <td>NaN</td>\n      <td>NaN</td>\n      <td>[{'screen_name': 'RemarkableJamie', 'name': 'J...</td>\n      <td>NaN</td>\n      <td>NaN</td>\n      <td>NaN</td>\n      <td>NaN</td>\n    </tr>\n    <tr>\n      <th>4</th>\n      <td>1390726788049932288</td>\n      <td>1390725076996268038</td>\n      <td>1.620410e+12</td>\n      <td>2021-05-08 01:54:39</td>\n      <td>800</td>\n      <td>NaN</td>\n      <td>@vmiwn consider it open for business</td>\n      <td>en</td>\n      <td>[]</td>\n      <td>[]</td>\n      <td>...</td>\n      <td>NaN</td>\n      <td>NaN</td>\n      <td>NaN</td>\n      <td>NaN</td>\n      <td>NaN</td>\n      <td>[{'screen_name': 'vmiwn', 'name': 'hiro !?', '...</td>\n      <td>NaN</td>\n      <td>NaN</td>\n      <td>NaN</td>\n      <td>NaN</td>\n    </tr>\n  </tbody>\n</table>\n<p>5 rows × 38 columns</p>\n</div>"
     },
     "metadata": {},
     "execution_count": 79
    }
   ],
   "source": [
    "\n",
    "df1.head()"
   ]
  },
  {
   "cell_type": "code",
   "execution_count": 81,
   "metadata": {},
   "outputs": [
    {
     "output_type": "execute_result",
     "data": {
      "text/plain": [
       "                                                tweet username  nlikes\n",
       "0           @annaeatcarrots us scrolling the timeline  Twitter    2092\n",
       "1                        @heybereket \"saw some drama\"  Twitter     678\n",
       "2                 your Twitter personality in one pic  Twitter   59372\n",
       "3   @RemarkableJamie unlike the fridge, Twitter ha...  Twitter      62\n",
       "4                @vmiwn consider it open for business  Twitter    1644\n",
       "..                                                ...      ...     ...\n",
       "95                   @ppredictors \"0% fact, 100% fun\"  Twitter    3283\n",
       "96   @Ieiasolo \"AGATHA HARKNESS CAN HEX ME, she/they\"  Twitter    1997\n",
       "97  @OliverDurham10 \"my plants are better than yours\"  Twitter      32\n",
       "98      @Vraxooo \"banger bio,  💙 social media person\"  Twitter      79\n",
       "99  @ImLiteralLarry1 \"my name is Larry and I take ...  Twitter    6235\n",
       "\n",
       "[100 rows x 3 columns]"
      ],
      "text/html": "<div>\n<style scoped>\n    .dataframe tbody tr th:only-of-type {\n        vertical-align: middle;\n    }\n\n    .dataframe tbody tr th {\n        vertical-align: top;\n    }\n\n    .dataframe thead th {\n        text-align: right;\n    }\n</style>\n<table border=\"1\" class=\"dataframe\">\n  <thead>\n    <tr style=\"text-align: right;\">\n      <th></th>\n      <th>tweet</th>\n      <th>username</th>\n      <th>nlikes</th>\n    </tr>\n  </thead>\n  <tbody>\n    <tr>\n      <th>0</th>\n      <td>@annaeatcarrots us scrolling the timeline</td>\n      <td>Twitter</td>\n      <td>2092</td>\n    </tr>\n    <tr>\n      <th>1</th>\n      <td>@heybereket \"saw some drama\"</td>\n      <td>Twitter</td>\n      <td>678</td>\n    </tr>\n    <tr>\n      <th>2</th>\n      <td>your Twitter personality in one pic</td>\n      <td>Twitter</td>\n      <td>59372</td>\n    </tr>\n    <tr>\n      <th>3</th>\n      <td>@RemarkableJamie unlike the fridge, Twitter ha...</td>\n      <td>Twitter</td>\n      <td>62</td>\n    </tr>\n    <tr>\n      <th>4</th>\n      <td>@vmiwn consider it open for business</td>\n      <td>Twitter</td>\n      <td>1644</td>\n    </tr>\n    <tr>\n      <th>...</th>\n      <td>...</td>\n      <td>...</td>\n      <td>...</td>\n    </tr>\n    <tr>\n      <th>95</th>\n      <td>@ppredictors \"0% fact, 100% fun\"</td>\n      <td>Twitter</td>\n      <td>3283</td>\n    </tr>\n    <tr>\n      <th>96</th>\n      <td>@Ieiasolo \"AGATHA HARKNESS CAN HEX ME, she/they\"</td>\n      <td>Twitter</td>\n      <td>1997</td>\n    </tr>\n    <tr>\n      <th>97</th>\n      <td>@OliverDurham10 \"my plants are better than yours\"</td>\n      <td>Twitter</td>\n      <td>32</td>\n    </tr>\n    <tr>\n      <th>98</th>\n      <td>@Vraxooo \"banger bio,  💙 social media person\"</td>\n      <td>Twitter</td>\n      <td>79</td>\n    </tr>\n    <tr>\n      <th>99</th>\n      <td>@ImLiteralLarry1 \"my name is Larry and I take ...</td>\n      <td>Twitter</td>\n      <td>6235</td>\n    </tr>\n  </tbody>\n</table>\n<p>100 rows × 3 columns</p>\n</div>"
     },
     "metadata": {},
     "execution_count": 81
    }
   ],
   "source": [
    "df1[['tweet', 'username', 'nlikes']]"
   ]
  },
  {
   "cell_type": "code",
   "execution_count": 95,
   "metadata": {},
   "outputs": [],
   "source": [
    "# convert above to a function and apply to the dataframe\n",
    "def get_score(row):\n",
    "    tweet = row['tweet']\n",
    "    # print(f\"{tweet=}\")\n",
    "    vs = analyzer.polarity_scores(tweet)\n",
    "    # print(f\"{vs=}\")\n",
    "    # print(f\"{vs.get('compound')=}\")\n",
    "    return vs.get('compound')\n",
    "\n",
    "df1['compound_score'] = df1.apply(get_score, axis=1)"
   ]
  },
  {
   "cell_type": "code",
   "execution_count": 93,
   "metadata": {},
   "outputs": [
    {
     "output_type": "execute_result",
     "data": {
      "text/plain": [
       "                    id      conversation_id    created_at  \\\n",
       "0  1391862914525638658  1391857183801974794  1.620681e+12   \n",
       "1  1391862914479529989  1391857183801974794  1.620681e+12   \n",
       "2  1391857183801974794  1391857183801974794  1.620680e+12   \n",
       "3  1391856943657111558  1390725076996268038  1.620680e+12   \n",
       "4  1390726788049932288  1390725076996268038  1.620410e+12   \n",
       "\n",
       "                  date  timezone  place  \\\n",
       "0  2021-05-11 05:09:13       800    NaN   \n",
       "1  2021-05-11 05:09:13       800    NaN   \n",
       "2  2021-05-11 04:46:26       800    NaN   \n",
       "3  2021-05-11 04:45:29       800    NaN   \n",
       "4  2021-05-08 01:54:39       800    NaN   \n",
       "\n",
       "                                               tweet language hashtags  \\\n",
       "0          @annaeatcarrots us scrolling the timeline       en       []   \n",
       "1                       @heybereket \"saw some drama\"       en       []   \n",
       "2                your Twitter personality in one pic       en       []   \n",
       "3  @RemarkableJamie unlike the fridge, Twitter ha...       en       []   \n",
       "4               @vmiwn consider it open for business       en       []   \n",
       "\n",
       "  cashtags  ...  source  user_rt_id user_rt retweet_id  \\\n",
       "0       []  ...     NaN         NaN     NaN        NaN   \n",
       "1       []  ...     NaN         NaN     NaN        NaN   \n",
       "2       []  ...     NaN         NaN     NaN        NaN   \n",
       "3       []  ...     NaN         NaN     NaN        NaN   \n",
       "4       []  ...     NaN         NaN     NaN        NaN   \n",
       "\n",
       "                                            reply_to  retweet_date translate  \\\n",
       "0  [{'screen_name': 'annaeatcarrots', 'name': \"an...           NaN       NaN   \n",
       "1  [{'screen_name': 'heybereket', 'name': 'Bereke...           NaN       NaN   \n",
       "2                                                 []           NaN       NaN   \n",
       "3  [{'screen_name': 'RemarkableJamie', 'name': 'J...           NaN       NaN   \n",
       "4  [{'screen_name': 'vmiwn', 'name': 'hiro !?', '...           NaN       NaN   \n",
       "\n",
       "  trans_src trans_dest  compound_score  \n",
       "0       NaN        NaN             0.0  \n",
       "1       NaN        NaN             0.0  \n",
       "2       NaN        NaN             0.0  \n",
       "3       NaN        NaN             0.0  \n",
       "4       NaN        NaN             0.0  \n",
       "\n",
       "[5 rows x 39 columns]"
      ],
      "text/html": "<div>\n<style scoped>\n    .dataframe tbody tr th:only-of-type {\n        vertical-align: middle;\n    }\n\n    .dataframe tbody tr th {\n        vertical-align: top;\n    }\n\n    .dataframe thead th {\n        text-align: right;\n    }\n</style>\n<table border=\"1\" class=\"dataframe\">\n  <thead>\n    <tr style=\"text-align: right;\">\n      <th></th>\n      <th>id</th>\n      <th>conversation_id</th>\n      <th>created_at</th>\n      <th>date</th>\n      <th>timezone</th>\n      <th>place</th>\n      <th>tweet</th>\n      <th>language</th>\n      <th>hashtags</th>\n      <th>cashtags</th>\n      <th>...</th>\n      <th>source</th>\n      <th>user_rt_id</th>\n      <th>user_rt</th>\n      <th>retweet_id</th>\n      <th>reply_to</th>\n      <th>retweet_date</th>\n      <th>translate</th>\n      <th>trans_src</th>\n      <th>trans_dest</th>\n      <th>compound_score</th>\n    </tr>\n  </thead>\n  <tbody>\n    <tr>\n      <th>0</th>\n      <td>1391862914525638658</td>\n      <td>1391857183801974794</td>\n      <td>1.620681e+12</td>\n      <td>2021-05-11 05:09:13</td>\n      <td>800</td>\n      <td>NaN</td>\n      <td>@annaeatcarrots us scrolling the timeline</td>\n      <td>en</td>\n      <td>[]</td>\n      <td>[]</td>\n      <td>...</td>\n      <td>NaN</td>\n      <td>NaN</td>\n      <td>NaN</td>\n      <td>NaN</td>\n      <td>[{'screen_name': 'annaeatcarrots', 'name': \"an...</td>\n      <td>NaN</td>\n      <td>NaN</td>\n      <td>NaN</td>\n      <td>NaN</td>\n      <td>0.0</td>\n    </tr>\n    <tr>\n      <th>1</th>\n      <td>1391862914479529989</td>\n      <td>1391857183801974794</td>\n      <td>1.620681e+12</td>\n      <td>2021-05-11 05:09:13</td>\n      <td>800</td>\n      <td>NaN</td>\n      <td>@heybereket \"saw some drama\"</td>\n      <td>en</td>\n      <td>[]</td>\n      <td>[]</td>\n      <td>...</td>\n      <td>NaN</td>\n      <td>NaN</td>\n      <td>NaN</td>\n      <td>NaN</td>\n      <td>[{'screen_name': 'heybereket', 'name': 'Bereke...</td>\n      <td>NaN</td>\n      <td>NaN</td>\n      <td>NaN</td>\n      <td>NaN</td>\n      <td>0.0</td>\n    </tr>\n    <tr>\n      <th>2</th>\n      <td>1391857183801974794</td>\n      <td>1391857183801974794</td>\n      <td>1.620680e+12</td>\n      <td>2021-05-11 04:46:26</td>\n      <td>800</td>\n      <td>NaN</td>\n      <td>your Twitter personality in one pic</td>\n      <td>en</td>\n      <td>[]</td>\n      <td>[]</td>\n      <td>...</td>\n      <td>NaN</td>\n      <td>NaN</td>\n      <td>NaN</td>\n      <td>NaN</td>\n      <td>[]</td>\n      <td>NaN</td>\n      <td>NaN</td>\n      <td>NaN</td>\n      <td>NaN</td>\n      <td>0.0</td>\n    </tr>\n    <tr>\n      <th>3</th>\n      <td>1391856943657111558</td>\n      <td>1390725076996268038</td>\n      <td>1.620680e+12</td>\n      <td>2021-05-11 04:45:29</td>\n      <td>800</td>\n      <td>NaN</td>\n      <td>@RemarkableJamie unlike the fridge, Twitter ha...</td>\n      <td>en</td>\n      <td>[]</td>\n      <td>[]</td>\n      <td>...</td>\n      <td>NaN</td>\n      <td>NaN</td>\n      <td>NaN</td>\n      <td>NaN</td>\n      <td>[{'screen_name': 'RemarkableJamie', 'name': 'J...</td>\n      <td>NaN</td>\n      <td>NaN</td>\n      <td>NaN</td>\n      <td>NaN</td>\n      <td>0.0</td>\n    </tr>\n    <tr>\n      <th>4</th>\n      <td>1390726788049932288</td>\n      <td>1390725076996268038</td>\n      <td>1.620410e+12</td>\n      <td>2021-05-08 01:54:39</td>\n      <td>800</td>\n      <td>NaN</td>\n      <td>@vmiwn consider it open for business</td>\n      <td>en</td>\n      <td>[]</td>\n      <td>[]</td>\n      <td>...</td>\n      <td>NaN</td>\n      <td>NaN</td>\n      <td>NaN</td>\n      <td>NaN</td>\n      <td>[{'screen_name': 'vmiwn', 'name': 'hiro !?', '...</td>\n      <td>NaN</td>\n      <td>NaN</td>\n      <td>NaN</td>\n      <td>NaN</td>\n      <td>0.0</td>\n    </tr>\n  </tbody>\n</table>\n<p>5 rows × 39 columns</p>\n</div>"
     },
     "metadata": {},
     "execution_count": 93
    }
   ],
   "source": [
    "df1.head()"
   ]
  },
  {
   "cell_type": "code",
   "execution_count": 88,
   "metadata": {},
   "outputs": [],
   "source": []
  },
  {
   "cell_type": "code",
   "execution_count": 97,
   "metadata": {},
   "outputs": [
    {
     "output_type": "execute_result",
     "data": {
      "text/plain": [
       "                                                tweet username  nlikes  \\\n",
       "9                                 @vinn_ayy okay sure  Twitter     523   \n",
       "11              @trendsjeon this Tweet makes us happy  Twitter     104   \n",
       "12  show your love, leave a tip   now testing Tip ...  Twitter   38364   \n",
       "15                  writing a good Tweet is hard okay  Twitter  110098   \n",
       "28               @lR0NDAD good luck with your finals!  Twitter     163   \n",
       "31                                @Jinn_chan LOVE YOU  Twitter     242   \n",
       "38                         @Skoog pretty much correct  Twitter      71   \n",
       "40  now you can bless the Tweets in your Fleets wi...  Twitter    5280   \n",
       "50  @vildanzengin_ you're welcome for the free bra...  Twitter     358   \n",
       "53   do they like you or do they just like your Tweet  Twitter   68944   \n",
       "59               @rgprab the boat was trying its best  Twitter    1115   \n",
       "71                          @reddit love htat for you  Twitter   13651   \n",
       "75                          @emilybernay proud of you  Twitter     307   \n",
       "95                   @ppredictors \"0% fact, 100% fun\"  Twitter    3283   \n",
       "98      @Vraxooo \"banger bio,  💙 social media person\"  Twitter      79   \n",
       "\n",
       "    compound_score  \n",
       "9           0.4939  \n",
       "11          0.5719  \n",
       "12          0.6124  \n",
       "15          0.5267  \n",
       "28          0.7345  \n",
       "31          0.7125  \n",
       "38          0.4939  \n",
       "40          0.4767  \n",
       "50          0.7430  \n",
       "53          0.6124  \n",
       "59          0.6369  \n",
       "71          0.6369  \n",
       "75          0.4767  \n",
       "95          0.5106  \n",
       "98          0.6369  "
      ],
      "text/html": "<div>\n<style scoped>\n    .dataframe tbody tr th:only-of-type {\n        vertical-align: middle;\n    }\n\n    .dataframe tbody tr th {\n        vertical-align: top;\n    }\n\n    .dataframe thead th {\n        text-align: right;\n    }\n</style>\n<table border=\"1\" class=\"dataframe\">\n  <thead>\n    <tr style=\"text-align: right;\">\n      <th></th>\n      <th>tweet</th>\n      <th>username</th>\n      <th>nlikes</th>\n      <th>compound_score</th>\n    </tr>\n  </thead>\n  <tbody>\n    <tr>\n      <th>9</th>\n      <td>@vinn_ayy okay sure</td>\n      <td>Twitter</td>\n      <td>523</td>\n      <td>0.4939</td>\n    </tr>\n    <tr>\n      <th>11</th>\n      <td>@trendsjeon this Tweet makes us happy</td>\n      <td>Twitter</td>\n      <td>104</td>\n      <td>0.5719</td>\n    </tr>\n    <tr>\n      <th>12</th>\n      <td>show your love, leave a tip   now testing Tip ...</td>\n      <td>Twitter</td>\n      <td>38364</td>\n      <td>0.6124</td>\n    </tr>\n    <tr>\n      <th>15</th>\n      <td>writing a good Tweet is hard okay</td>\n      <td>Twitter</td>\n      <td>110098</td>\n      <td>0.5267</td>\n    </tr>\n    <tr>\n      <th>28</th>\n      <td>@lR0NDAD good luck with your finals!</td>\n      <td>Twitter</td>\n      <td>163</td>\n      <td>0.7345</td>\n    </tr>\n    <tr>\n      <th>31</th>\n      <td>@Jinn_chan LOVE YOU</td>\n      <td>Twitter</td>\n      <td>242</td>\n      <td>0.7125</td>\n    </tr>\n    <tr>\n      <th>38</th>\n      <td>@Skoog pretty much correct</td>\n      <td>Twitter</td>\n      <td>71</td>\n      <td>0.4939</td>\n    </tr>\n    <tr>\n      <th>40</th>\n      <td>now you can bless the Tweets in your Fleets wi...</td>\n      <td>Twitter</td>\n      <td>5280</td>\n      <td>0.4767</td>\n    </tr>\n    <tr>\n      <th>50</th>\n      <td>@vildanzengin_ you're welcome for the free bra...</td>\n      <td>Twitter</td>\n      <td>358</td>\n      <td>0.7430</td>\n    </tr>\n    <tr>\n      <th>53</th>\n      <td>do they like you or do they just like your Tweet</td>\n      <td>Twitter</td>\n      <td>68944</td>\n      <td>0.6124</td>\n    </tr>\n    <tr>\n      <th>59</th>\n      <td>@rgprab the boat was trying its best</td>\n      <td>Twitter</td>\n      <td>1115</td>\n      <td>0.6369</td>\n    </tr>\n    <tr>\n      <th>71</th>\n      <td>@reddit love htat for you</td>\n      <td>Twitter</td>\n      <td>13651</td>\n      <td>0.6369</td>\n    </tr>\n    <tr>\n      <th>75</th>\n      <td>@emilybernay proud of you</td>\n      <td>Twitter</td>\n      <td>307</td>\n      <td>0.4767</td>\n    </tr>\n    <tr>\n      <th>95</th>\n      <td>@ppredictors \"0% fact, 100% fun\"</td>\n      <td>Twitter</td>\n      <td>3283</td>\n      <td>0.5106</td>\n    </tr>\n    <tr>\n      <th>98</th>\n      <td>@Vraxooo \"banger bio,  💙 social media person\"</td>\n      <td>Twitter</td>\n      <td>79</td>\n      <td>0.6369</td>\n    </tr>\n  </tbody>\n</table>\n</div>"
     },
     "metadata": {},
     "execution_count": 97
    }
   ],
   "source": [
    "# check some samples \n",
    "df1.loc[df1['compound_score'] > 0.45,['tweet','username', 'nlikes','compound_score']]\n"
   ]
  },
  {
   "cell_type": "code",
   "execution_count": null,
   "metadata": {},
   "outputs": [],
   "source": [
    "# save the output\n",
    "df1.to_csv(\"test_scores.csv\", index=False)"
   ]
  }
 ]
}